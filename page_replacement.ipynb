{
 "cells": [
  {
   "cell_type": "markdown",
   "metadata": {},
   "source": [
    "# FIFO"
   ]
  },
  {
   "cell_type": "markdown",
   "metadata": {},
   "source": [
    "1 Start traversing the pages.                      \n",
    " i) If set holds less pages than capacity.                        \n",
    "   a) Insert page into the set one by one until \n",
    "      the size  of set reaches capacity or all\n",
    "      page requests are processed.                           \n",
    "   b) Simultaneously maintain the pages in the\n",
    "      queue to perform FIFO.                 \n",
    "   c) Increment page fault                       \n",
    " ii) Else                         \n",
    "   If current page is present in set, do nothing.              \n",
    "   Else                      \n",
    "     a) Remove the first page from the queue\n",
    "        as it was the first to be entered in\n",
    "        the memory                    \n",
    "     b) Replace the first page in the queue with \n",
    "        the current page in the string.              \n",
    "     c) Store current page in the queue.            \n",
    "     d) Increment page faults.               \n",
    "\n",
    "2 Return page faults.           "
   ]
  },
  {
   "cell_type": "code",
   "execution_count": 1,
   "metadata": {},
   "outputs": [
    {
     "name": "stdout",
     "output_type": "stream",
     "text": [
      "7\n"
     ]
    }
   ],
   "source": [
    "from queue import Queue  \n",
    "  \n",
    "# Function to find page faults using FIFO  \n",
    "def pageFaults(pages, n, capacity): \n",
    "      \n",
    "    #using set to quickly check if a page is present in set or not   \n",
    "    s = set()  \n",
    "  \n",
    "    # To store the pages in FIFO manner  \n",
    "    indexes = Queue()  \n",
    "  \n",
    "    # Start from initial page  \n",
    "    page_faults = 0\n",
    "    for i in range(n): \n",
    "          \n",
    "        # Check if the set can hold more pages maximum number of frames it has\n",
    "        if (len(s) < capacity): \n",
    "              \n",
    "            # Insert it into set if not present already \n",
    "            #This represents page fault  \n",
    "            if (pages[i] not in s): \n",
    "                s.add(pages[i])  \n",
    "  \n",
    "                # increment page fault  \n",
    "                page_faults += 1\n",
    "  \n",
    "                # Push the current page into the queue  \n",
    "                indexes.put(pages[i]) \n",
    "  \n",
    "        # If the set is full then need to perform FIFO  \n",
    "        # i.e. remove the first page of the queue from  \n",
    "        # set and queue both and insert the current page  \n",
    "        else: \n",
    "              \n",
    "            # Check if current page is not  \n",
    "            # already present in the set  \n",
    "            if (pages[i] not in s): \n",
    "                  \n",
    "                # Pop the first page from the queue  \n",
    "                val = indexes.queue[0]  \n",
    "  \n",
    "                indexes.get()  \n",
    "  \n",
    "                # Remove the indexes page  \n",
    "                s.remove(val)  \n",
    "  \n",
    "                # insert the current page  \n",
    "                s.add(pages[i])  \n",
    "  \n",
    "                # push the current page into  \n",
    "                # the queue  \n",
    "                indexes.put(pages[i])  \n",
    "  \n",
    "                # Increment page faults  \n",
    "                page_faults += 1\n",
    "  \n",
    "    return page_faults \n",
    "  \n",
    "# Driver code  \n",
    "if __name__ == '__main__': \n",
    "    pages = [7, 0, 1, 2, 0, 3, 0,  \n",
    "                4, 2, 3, 0, 3, 2]  \n",
    "    n = len(pages)  \n",
    "    capacity = 4\n",
    "    print(pageFaults(pages, n, capacity)) \n",
    "  \n"
   ]
  },
  {
   "cell_type": "markdown",
   "metadata": {},
   "source": [
    "# LRU"
   ]
  },
  {
   "cell_type": "markdown",
   "metadata": {},
   "source": [
    "Let capacity be the number of pages that memory can hold.  Let set be the current set of pages in memory.          \n",
    "\n",
    "1 Start traversing the pages.                           \n",
    " i) If set holds less pages than capacity.                    \n",
    "   a) Insert page into the set one by one until the size  of set reaches capacity or all page requests are processed.     \n",
    "   b) Simultaneously maintain the recent occurred index of each page in a map called indexes.         \n",
    "   c) Increment page fault                 \n",
    " ii) Else                \n",
    "   If current page is present in set, do nothing.            \n",
    "   Else                  \n",
    "     a) Find the page in the set that was least recently used. We find it using index array.We basically need to replace the page with\n",
    "     minimum index.                       \n",
    "     b) Replace the found page with current page.                   \n",
    "     c) Increment page faults.            \n",
    "     d) Update index of current page.            \n",
    "\n",
    "2 Return page faults.            "
   ]
  },
  {
   "cell_type": "code",
   "execution_count": 1,
   "metadata": {},
   "outputs": [
    {
     "name": "stdout",
     "output_type": "stream",
     "text": [
      "6\n"
     ]
    }
   ],
   "source": [
    "capacity = 4 \n",
    "processList = [ 7, 0, 1, 2, 0, 3, 0, \n",
    "                4, 2, 3, 0, 3, 2] \n",
    "                  \n",
    "# List of current pages in Main Memory \n",
    "s = []  \n",
    "  \n",
    "pageFaults = 0\n",
    "# pageHits = 0 \n",
    "  \n",
    "for i in processList: \n",
    "  \n",
    "    # If i is not present in currentPages list \n",
    "    if i not in s: \n",
    "  \n",
    "        # Check if the list can hold equal pages \n",
    "        if(len(s) == capacity): \n",
    "            s.remove(s[0]) \n",
    "            s.append(i) \n",
    "  \n",
    "        else: \n",
    "            s.append(i) \n",
    "  \n",
    "        # Increment Page faults \n",
    "        pageFaults +=1\n",
    "  \n",
    "    # If page is already there in  \n",
    "    # currentPages i.e in Main \n",
    "    else: \n",
    "          \n",
    "        # Remove previous index of current page \n",
    "        s.remove(i) \n",
    "  \n",
    "        # Now append it, at last index \n",
    "        s.append(i) \n",
    "\n",
    "print(\"{}\".format(pageFaults)) "
   ]
  },
  {
   "cell_type": "markdown",
   "metadata": {},
   "source": [
    "# Optiomal"
   ]
  },
  {
   "cell_type": "code",
   "execution_count": 7,
   "metadata": {},
   "outputs": [
    {
     "name": "stdout",
     "output_type": "stream",
     "text": [
      "Enter the number of frames: 3\n",
      "Enter the reference string: 5 1 2 3 8 9\n",
      "\n",
      "String|Frame →\t0 1 2 Fault\n",
      "   ↓\n",
      "\n",
      "   5\t\t5      Yes\n",
      "   1\t\t5 1    Yes\n",
      "   2\t\t5 1 2  Yes\n",
      "   3\t\t3 1 2  Yes\n",
      "   8\t\t8 1 2  Yes\n",
      "   9\t\t9 1 2  Yes\n",
      "\n",
      "Total requests: 6\n",
      "Total Page Faults: 6\n",
      "Fault Rate: 100.00%\n"
     ]
    }
   ],
   "source": [
    "print(\"Enter the number of frames: \",end=\"\")\n",
    "capacity = int(input())\n",
    "f,fault,pf = [],0,'No'\n",
    "print(\"Enter the reference string: \",end=\"\")\n",
    "s = list(map(int,input().strip().split()))\n",
    "print(\"\\nString|Frame →\\t\",end='')\n",
    "for i in range(capacity):\n",
    "    print(i,end=' ')\n",
    "print(\"Fault\\n   ↓\\n\")\n",
    "occurance = [None for i in range(capacity)]\n",
    "for i in range(len(s)):\n",
    "    if s[i] not in f:\n",
    "        if len(f)<capacity:\n",
    "            f.append(s[i])\n",
    "        else:\n",
    "            for x in range(len(f)):\n",
    "                if f[x] not in s[i+1:]:\n",
    "                    f[x] = s[i]\n",
    "                    break\n",
    "                else:\n",
    "                    occurance[x] = s[i+1:].index(f[x])\n",
    "            else:\n",
    "                f[occurance.index(max(occurance))] = s[i]\n",
    "        fault += 1\n",
    "        pf = 'Yes'\n",
    "    else:\n",
    "        pf = 'No'\n",
    "    print(\"   %d\\t\\t\"%s[i],end='')\n",
    "    for x in f:\n",
    "        print(x,end=' ')\n",
    "    for x in range(capacity-len(f)):\n",
    "        print(' ',end=' ')\n",
    "    print(\" %s\"%pf)\n",
    "print(\"\\nTotal requests: %d\\nTotal Page Faults: %d\\nFault Rate: %0.2f%%\"%(len(s),fault,(fault/len(s))*100))"
   ]
  },
  {
   "cell_type": "code",
   "execution_count": null,
   "metadata": {},
   "outputs": [],
   "source": []
  }
 ],
 "metadata": {
  "kernelspec": {
   "display_name": "Python 3",
   "language": "python",
   "name": "python3"
  },
  "language_info": {
   "codemirror_mode": {
    "name": "ipython",
    "version": 3
   },
   "file_extension": ".py",
   "mimetype": "text/x-python",
   "name": "python",
   "nbconvert_exporter": "python",
   "pygments_lexer": "ipython3",
   "version": "3.7.6"
  }
 },
 "nbformat": 4,
 "nbformat_minor": 4
}
