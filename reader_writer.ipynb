{
 "cells": [
  {
   "cell_type": "code",
   "execution_count": 2,
   "metadata": {},
   "outputs": [],
   "source": [
    "import threading as thread\n",
    "import random"
   ]
  },
  {
   "cell_type": "code",
   "execution_count": 3,
   "metadata": {},
   "outputs": [],
   "source": [
    "global x                #Shared Data\n",
    "x = 0\n",
    "lock = thread.Lock()    #Lock for synchronising access"
   ]
  },
  {
   "cell_type": "code",
   "execution_count": 4,
   "metadata": {},
   "outputs": [],
   "source": [
    "def Reader():\n",
    "    global x\n",
    "    print('Reader is Reading!')\n",
    "    lock.acquire()      #Acquire the lock before Reading (mutex approach)\n",
    "    print('Shared Data:', x)\n",
    "    lock.release()      #Release the lock after Reading\n",
    "    print()"
   ]
  },
  {
   "cell_type": "code",
   "execution_count": 5,
   "metadata": {},
   "outputs": [],
   "source": [
    "def Writer():\n",
    "    global x\n",
    "    print('Writer is Writing!')\n",
    "    lock.acquire()      #Acquire the lock before Writing\n",
    "    x += 1              #Write on the shared memory\n",
    "    print('Writer is Releasing the lock!')\n",
    "    lock.release()      #Release the lock after Writing\n",
    "    print()"
   ]
  },
  {
   "cell_type": "code",
   "execution_count": 6,
   "metadata": {},
   "outputs": [
    {
     "name": "stdout",
     "output_type": "stream",
     "text": [
      "Reader is Reading!\n",
      "Shared Data: 0\n",
      "\n",
      "Writer is Writing!\n",
      "Writer is Releasing the lock!\n",
      "\n",
      "Writer is Writing!\n",
      "Writer is Releasing the lock!\n",
      "\n",
      "Writer is Writing!Reader is Reading!\n",
      "Writer is Releasing the lock!\n",
      "\n",
      "\n",
      "Shared Data: 3\n",
      "Reader is Reading!\n",
      "\n",
      "Shared Data: 3\n",
      "\n",
      "Writer is Writing!Reader is Reading!\n",
      "Writer is Releasing the lock!\n",
      "\n",
      "\n",
      "Shared Data: 4\n",
      "\n",
      "Writer is Writing!\n",
      "Writer is Releasing the lock!\n",
      "\n",
      "Reader is Reading!\n",
      "Shared Data: 5\n",
      "\n"
     ]
    }
   ],
   "source": [
    "if __name__ == '__main__':\n",
    "    for i in range(0, 10):\n",
    "        randomNumber = random.randint(0, 100)   #Generate a Random number between 0 to 100\n",
    "        if(randomNumber > 50):\n",
    "            Thread1 = thread.Thread(target = Reader)\n",
    "            Thread1.start()\n",
    "        else:\n",
    "            Thread2 = thread.Thread(target = Writer)\n",
    "            Thread2.start()\n",
    "\n",
    "Thread1.join()\n",
    "Thread2.join()\n",
    "\n",
    "# print(x)"
   ]
  },
  {
   "cell_type": "code",
   "execution_count": null,
   "metadata": {},
   "outputs": [],
   "source": []
  }
 ],
 "metadata": {
  "kernelspec": {
   "display_name": "Python 3",
   "language": "python",
   "name": "python3"
  },
  "language_info": {
   "codemirror_mode": {
    "name": "ipython",
    "version": 3
   },
   "file_extension": ".py",
   "mimetype": "text/x-python",
   "name": "python",
   "nbconvert_exporter": "python",
   "pygments_lexer": "ipython3",
   "version": "3.7.6"
  }
 },
 "nbformat": 4,
 "nbformat_minor": 4
}
