{
 "cells": [
  {
   "cell_type": "markdown",
   "metadata": {},
   "source": [
    "# First Fit"
   ]
  },
  {
   "cell_type": "markdown",
   "metadata": {},
   "source": [
    "1 Input memory blocks with size and processes with size.         \n",
    "2 Initialize all memory blocks as free.              \n",
    "3 Start by picking each process and check if it can be assigned to current block.            \n",
    "4 If size-of-process <= size-of-block if yes then assign and check for next process.           \n",
    "5 If not then keep checking the further blocks.               "
   ]
  },
  {
   "cell_type": "code",
   "execution_count": 27,
   "metadata": {},
   "outputs": [
    {
     "name": "stdout",
     "output_type": "stream",
     "text": [
      " Process No. Process Size Block no. \n",
      "  1           212           2\n",
      "  2           417           5\n",
      "  3           112           2\n",
      "  4           426           Not Allocated\n"
     ]
    }
   ],
   "source": [
    "def firstFit(blockSize, m, processSize, n): \n",
    "      \n",
    "    # Stores block id of the  \n",
    "    # block allocated to a process  \n",
    "    allocation = [-1] * n  \n",
    "  \n",
    "    # Initially no block is assigned to any process \n",
    "  \n",
    "    # pick each process and find suitable blocks  \n",
    "    # according to its size ad assign to it  \n",
    "    for i in range(n): \n",
    "        for j in range(m): \n",
    "            if blockSize[j] >= processSize[i]: \n",
    "                  \n",
    "                # allocate block j to p[i] process  \n",
    "                allocation[i] = j  \n",
    "  \n",
    "                # Reduce available memory in this block.  \n",
    "                blockSize[j] -= processSize[i]  \n",
    "  \n",
    "                break\n",
    "  \n",
    "    print(\" Process No. Process Size Block no. \") \n",
    "    for i in range(n): \n",
    "        print(\" \", i + 1, \"         \", processSize[i],  \n",
    "                          \"         \", end = \" \")  \n",
    "        if allocation[i] != -1:  \n",
    "            print(allocation[i] + 1)  \n",
    "        else: \n",
    "            print(\"Not Allocated\") \n",
    "            \n",
    "if __name__ == '__main__':  \n",
    "    blockSize = [100, 500, 200, 300, 600]  \n",
    "    processSize = [212, 417, 112, 426] \n",
    "    m = len(blockSize) \n",
    "    n = len(processSize) \n",
    "  \n",
    "    firstFit(blockSize, m, processSize, n) "
   ]
  },
  {
   "cell_type": "markdown",
   "metadata": {},
   "source": [
    "# Best Fit"
   ]
  },
  {
   "cell_type": "markdown",
   "metadata": {},
   "source": [
    "1 Input memory blocks and processes with sizes.           \n",
    "2 Initialize all memory blocks as free.                  \n",
    "3 Start by picking each process and find the minimum block size that can be assigned to current process i.e., find min(bockSize[1], \n",
    "blockSize[2],.....blockSize[n]) > processSize[current], if found then assign it to the current process.        \n",
    "4 If not then leave that process and keep checking the further processes.  "
   ]
  },
  {
   "cell_type": "code",
   "execution_count": 28,
   "metadata": {},
   "outputs": [
    {
     "name": "stdout",
     "output_type": "stream",
     "text": [
      "Process No. Process Size Block no.\n",
      "1           212         4\n",
      "2           417         2\n",
      "3           112         3\n",
      "4           426         5\n"
     ]
    }
   ],
   "source": [
    "def bestFit(blockSize, m, processSize, n): \n",
    "      \n",
    "    # Stores block id of the block  \n",
    "    # allocated to a process  \n",
    "    allocation = [-1] * n  \n",
    "      \n",
    "    # pick each process and find suitable  \n",
    "    # blocks according to its size ad  \n",
    "    # assign to it \n",
    "    for i in range(n): \n",
    "          \n",
    "        # Find the best fit block for \n",
    "        # current process  \n",
    "        bestIdx = -1\n",
    "        for j in range(m): \n",
    "            if blockSize[j] >= processSize[i]: \n",
    "                if bestIdx == -1:  \n",
    "                    bestIdx = j  \n",
    "                elif blockSize[bestIdx] > blockSize[j]:  \n",
    "                    bestIdx = j \n",
    "  \n",
    "        # If we could find a block for  \n",
    "        # current process  \n",
    "        if bestIdx != -1: \n",
    "              \n",
    "            # allocate block j to p[i] process  \n",
    "            allocation[i] = bestIdx  \n",
    "  \n",
    "            # Reduce available memory in this block.  \n",
    "            blockSize[bestIdx] -= processSize[i] \n",
    "  \n",
    "    print(\"Process No. Process Size Block no.\") \n",
    "    for i in range(n): \n",
    "        print(i + 1, \"         \", processSize[i],  \n",
    "                                end = \"         \")  \n",
    "        if allocation[i] != -1:  \n",
    "            print(allocation[i] + 1)  \n",
    "        else: \n",
    "            print(\"Not Allocated\") \n",
    "\n",
    "if __name__ == '__main__':  \n",
    "    blockSize = [100, 500, 200, 300, 600]  \n",
    "    processSize = [212, 417, 112, 426]  \n",
    "    m = len(blockSize)  \n",
    "    n = len(processSize)  \n",
    "  \n",
    "    bestFit(blockSize, m, processSize, n) \n",
    "      "
   ]
  },
  {
   "cell_type": "markdown",
   "metadata": {},
   "source": [
    "# Worst Fit"
   ]
  },
  {
   "cell_type": "markdown",
   "metadata": {},
   "source": [
    "1 Input memory blocks and processes with sizes.                 \n",
    "2 Initialize all memory blocks as free.                    \n",
    "3 Start by picking each process and find the maximum block size that can be assigned to current process i.e., \n",
    "find max(bockSize[1],blockSize[2],.....blockSize[n]) > processSize[current], if found then assign it to the current process.  \n",
    "4 If not then leave that process and keep checkingthe further processes.      "
   ]
  },
  {
   "cell_type": "code",
   "execution_count": 29,
   "metadata": {},
   "outputs": [
    {
     "name": "stdout",
     "output_type": "stream",
     "text": [
      "Process No. Process Size Block no.\n",
      "1           212     5\n",
      "2           417     2\n",
      "3           112     5\n",
      "4           426     Not Allocated\n"
     ]
    }
   ],
   "source": [
    "def worstFit(blockSize, m, processSize, n): \n",
    "      \n",
    "    # Stores block id of the block  \n",
    "    # allocated to a process  \n",
    "      \n",
    "    # Initially no block is assigned  \n",
    "    # to any process  \n",
    "    allocation = [-1] * n \n",
    "      \n",
    "    # pick each process and find suitable blocks  \n",
    "    # according to its size ad assign to it  \n",
    "    for i in range(n): \n",
    "          \n",
    "        # Find the best fit block for  \n",
    "        # current process  \n",
    "        wstIdx = -1\n",
    "        for j in range(m): \n",
    "            if blockSize[j] >= processSize[i]: \n",
    "                if wstIdx == -1:  \n",
    "                    wstIdx = j  \n",
    "                elif blockSize[wstIdx] < blockSize[j]:  \n",
    "                    wstIdx = j \n",
    "  \n",
    "        # If we could find a block for  \n",
    "        # current process  \n",
    "        if wstIdx != -1: \n",
    "              \n",
    "            # allocate block j to p[i] process  \n",
    "            allocation[i] = wstIdx  \n",
    "  \n",
    "            # Reduce available memory in this block.  \n",
    "            blockSize[wstIdx] -= processSize[i] \n",
    "  \n",
    "    print(\"Process No. Process Size Block no.\") \n",
    "    for i in range(n): \n",
    "        print(i + 1, \"         \",  \n",
    "              processSize[i], end = \"     \")  \n",
    "        if allocation[i] != -1: \n",
    "            print(allocation[i] + 1)  \n",
    "        else: \n",
    "            print(\"Not Allocated\") \n",
    "\n",
    "if __name__ == '__main__': \n",
    "    blockSize = [100, 500, 200, 300, 600]  \n",
    "    processSize = [212, 417, 112, 426]  \n",
    "    m = len(blockSize)  \n",
    "    n = len(processSize)  \n",
    "  \n",
    "    worstFit(blockSize, m, processSize, n) \n",
    "  "
   ]
  },
  {
   "cell_type": "code",
   "execution_count": null,
   "metadata": {},
   "outputs": [],
   "source": [
    "#m = int(input(\"Enter the block size\"))\n",
    "    n = len(processSize) \n",
    "    blockSize = []\n",
    "    m = int(input(\"Enter number of elements in the list : \"))\n",
    "    for i in range(0,m): \n",
    "        ele = int(input()) \n",
    "        blockSize.append(ele) # adding the element \n",
    "      \n",
    "    #print(blockSize)"
   ]
  }
 ],
 "metadata": {
  "kernelspec": {
   "display_name": "Python 3",
   "language": "python",
   "name": "python3"
  },
  "language_info": {
   "codemirror_mode": {
    "name": "ipython",
    "version": 3
   },
   "file_extension": ".py",
   "mimetype": "text/x-python",
   "name": "python",
   "nbconvert_exporter": "python",
   "pygments_lexer": "ipython3",
   "version": "3.7.6"
  }
 },
 "nbformat": 4,
 "nbformat_minor": 4
}
