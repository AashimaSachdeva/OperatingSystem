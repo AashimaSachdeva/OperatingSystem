{
 "cells": [
  {
   "cell_type": "markdown",
   "metadata": {},
   "source": [
    "# Priority scheduling "
   ]
  },
  {
   "cell_type": "markdown",
   "metadata": {},
   "source": [
    "Non-preemptive"
   ]
  },
  {
   "cell_type": "code",
   "execution_count": 2,
   "metadata": {},
   "outputs": [
    {
     "name": "stdout",
     "output_type": "stream",
     "text": [
      "Order in which processes gets executed(Highest priority first then less priority)\n",
      "4 5 3 2 1 \n",
      "Processes    Burst Time    Waiting Time    Turn-Around Time\n",
      "  4 \t\t 5 \t\t 0 \t\t 5\n",
      "  5 \t\t 2 \t\t 5 \t\t 7\n",
      "  3 \t\t 1 \t\t 7 \t\t 8\n",
      "  2 \t\t 3 \t\t 8 \t\t 11\n",
      "  1 \t\t 4 \t\t 11 \t\t 15\n",
      "\n",
      "Average waiting time = 6.20000 \n",
      "Average turn around time =  9.2\n"
     ]
    }
   ],
   "source": [
    "def findWaitingTime(processes, n, wt):  \n",
    "    wt[0] = 0\n",
    "  \n",
    "    #calculating waiting time for example waiting time of process2 will be burst time of process1+waiting time of process1 \n",
    "    for i in range(1, n):  \n",
    "        wt[i] = processes[i - 1][1] + wt[i - 1]  \n",
    "        \n",
    "#calculating T.A.T\n",
    "def findTurnAroundTime(processes, n, wt, tat):  \n",
    "      \n",
    "    # Calculating turnaround to calculate turn around time add bt[i] + wt[i]  \n",
    "    for i in range(n): \n",
    "        tat[i] = processes[i][1] + wt[i]  \n",
    "\n",
    "# Function to calculate average waiting time and turn-around times.  \n",
    "def findavgTime(processes, n):  \n",
    "    wt = [0] * n \n",
    "    tat = [0] * n  \n",
    "  \n",
    "    # Function to find waiting time   \n",
    "    findWaitingTime(processes, n, wt)  \n",
    "  \n",
    "    # Function to find turn around time   \n",
    "    findTurnAroundTime(processes, n, wt, tat)  \n",
    "  \n",
    "    # Display processes along with all details  \n",
    "    print(\"\\nProcesses    Burst Time    Waiting\", \"Time    Turn-Around Time\") \n",
    "    total_wt = 0\n",
    "    total_tat = 0\n",
    "    for i in range(n): \n",
    "  \n",
    "        total_wt = total_wt + wt[i]  \n",
    "        total_tat = total_tat + tat[i]  \n",
    "        print(\" \", processes[i][0], \"\\t\\t\",processes[i][1], \"\\t\\t\",wt[i], \"\\t\\t\", tat[i]) \n",
    "  \n",
    "    print(\"\\nAverage waiting time = %.5f \"%(total_wt /n)) \n",
    "    print(\"Average turn around time = \", total_tat / n)  \n",
    "    \n",
    "def priorityScheduling(proc, n): \n",
    "      \n",
    "    # Sort processes by priority process with highest priority  comes first reverse=True for descending order\n",
    "    proc = sorted(proc, key = lambda proc:proc[2],reverse = True);  \n",
    "  \n",
    "    print(\"Order in which processes gets executed(Highest priority first then less priority)\") \n",
    "    for i in proc: \n",
    "        print(i[0], end = \" \") \n",
    "    findavgTime(proc, n)  \n",
    "#process number,burst time, priority      \n",
    "proc = [[1, 4, 2],  \n",
    "        [2, 3, 3],  \n",
    "        [3, 1, 4],\n",
    "        [4, 5, 5],\n",
    "        [5, 2, 5]] \n",
    "n = 5\n",
    "priorityScheduling(proc, n) "
   ]
  },
  {
   "cell_type": "code",
   "execution_count": null,
   "metadata": {},
   "outputs": [],
   "source": []
  },
  {
   "cell_type": "code",
   "execution_count": null,
   "metadata": {},
   "outputs": [],
   "source": []
  }
 ],
 "metadata": {
  "kernelspec": {
   "display_name": "Python 3",
   "language": "python",
   "name": "python3"
  },
  "language_info": {
   "codemirror_mode": {
    "name": "ipython",
    "version": 3
   },
   "file_extension": ".py",
   "mimetype": "text/x-python",
   "name": "python",
   "nbconvert_exporter": "python",
   "pygments_lexer": "ipython3",
   "version": "3.7.6"
  }
 },
 "nbformat": 4,
 "nbformat_minor": 4
}
