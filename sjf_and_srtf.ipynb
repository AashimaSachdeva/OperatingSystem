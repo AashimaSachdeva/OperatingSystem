{
 "cells": [
  {
   "cell_type": "markdown",
   "metadata": {},
   "source": [
    "# SJF"
   ]
  },
  {
   "cell_type": "markdown",
   "metadata": {},
   "source": [
    "<b>Non-preemptive"
   ]
  },
  {
   "cell_type": "markdown",
   "metadata": {},
   "source": [
    "1- Traverse until all process gets completely\n",
    "   executed.     \n",
    "   a) Find process with minimum remaining time atevery single time lap.    \n",
    "   b) Reduce its time by 1.         \n",
    "   c) Check if its remaining time becomes 0         \n",
    "   d) Increment the counter of process completion.    \n",
    "   e) Completion time of current process = current_time +1;   \n",
    "   e) Calculate waiting time for each completed process.\n",
    "   wt[i]= Completion time - arrival_time-burst_time\n",
    "   f)Increment time lap by one.        \n",
    "2- Find turnaround time (waiting_time+burst_time).   "
   ]
  },
  {
   "cell_type": "code",
   "execution_count": 16,
   "metadata": {},
   "outputs": [],
   "source": [
    "#input processes and burst time\n",
    "#arrival time is same i.e.0 for all\n",
    "processes=[1,2,3,4,5]\n",
    "bt=[1,4,2,6,3]\n",
    "n=len(processes)"
   ]
  },
  {
   "cell_type": "code",
   "execution_count": 17,
   "metadata": {},
   "outputs": [],
   "source": [
    "#non-preemptive scheduling occurs based on Burst time higher the burst time earlier it will be scheduled\n",
    "#sorting in ascending order according to burst time using selection sort\n",
    "#process are to be sorted as we are sorting BT so process associated with that BT also needs to be sorted\n",
    "for i in range(0,len(bt)-1):\n",
    "    for j in range(0,len(bt)-1):\n",
    "        if(bt[j]>bt[j+1]):\n",
    "            temp=bt[j]\n",
    "            bt[j]=bt[j+1]\n",
    "            bt[j+1]=temp\n",
    "            \n",
    "            temp=processes[j]\n",
    "            processes[j]=processes[j+1]\n",
    "            processes[j+1]=temp\n",
    "    "
   ]
  },
  {
   "cell_type": "code",
   "execution_count": 18,
   "metadata": {},
   "outputs": [
    {
     "name": "stdout",
     "output_type": "stream",
     "text": [
      "The waiting time are:\n",
      "0\n",
      "1\n",
      "3\n",
      "6\n",
      "10\n",
      "\n",
      "\n",
      "The turnaround time are:\n",
      "1\n",
      "3\n",
      "6\n",
      "10\n",
      "16\n",
      "\n",
      "\n",
      "Average waiting time =  10\n",
      "\n",
      "Average turn around time =  16\n"
     ]
    }
   ],
   "source": [
    "wt=[]\n",
    "avwgt=0\n",
    "tat=[]\n",
    "avgtat=0\n",
    "wt.insert(0,0)\n",
    "tat.insert(0,bt[0])\n",
    "for i in range(1,len(bt)):\n",
    "    wt.insert(i,wt[i-1]+bt[i-1])\n",
    "    tat.insert(i,wt[i]+bt[i])\n",
    "    avwgt=avwgt+wt[i]\n",
    "    avgtat=avgtat+tat[i]\n",
    "    \n",
    "avwgt=float(avwgt)/n\n",
    "avgtat=float(avgtat)/n\n",
    "\n",
    "print(\"The waiting time are:\")\n",
    "for i in range(0,n):\n",
    "    print(str(wt[i]))\n",
    "print(\"\\n\")\n",
    "\n",
    "print(\"The turnaround time are:\")\n",
    "for i in range(0,n):\n",
    "    print(str(tat[i]))\n",
    "print(\"\\n\")\n",
    "print(\"Average waiting time = \",str(wt[i])) \n",
    "print(\"\\nAverage turn around time = \", str(tat[i])) \n"
   ]
  },
  {
   "cell_type": "markdown",
   "metadata": {},
   "source": [
    "# SRTF"
   ]
  },
  {
   "cell_type": "markdown",
   "metadata": {},
   "source": [
    "<b>Preemptive"
   ]
  },
  {
   "cell_type": "markdown",
   "metadata": {},
   "source": [
    "1- Traverse until all process gets completely executed.    \n",
    "   a) Find process with minimum remaining time at every single time lap.     \n",
    "   b) Reduce its time by 1.      \n",
    "   c) Check if its remaining time becomes 0      \n",
    "   d) Increment the counter of process completion.     \n",
    "   e) Completion time of current process = current_time +1;     \n",
    "   e) Calculate waiting time for each completedprocess.     \n",
    "   wt[i]= Completion time - arrival_time-burst_time     \n",
    "   f)Increment time lap by one.     \n",
    "2- Find turnaround time (waiting_time+burst_time).    "
   ]
  },
  {
   "cell_type": "code",
   "execution_count": 23,
   "metadata": {},
   "outputs": [
    {
     "name": "stdout",
     "output_type": "stream",
     "text": [
      "Processes    Burst Time     Waiting Time     Turn-Around Time\n",
      "  1 \t\t 6 \t\t 3 \t\t 9\n",
      "  2 \t\t 8 \t\t 16 \t\t 24\n",
      "  3 \t\t 7 \t\t 8 \t\t 15\n",
      "  4 \t\t 3 \t\t 0 \t\t 3\n",
      "\n",
      "Average waiting time = 6.75000 \n",
      "Average turn around time =  12.75\n"
     ]
    }
   ],
   "source": [
    "def findWaitingTime(processes, n, wt):  \n",
    "    rt = [0] * n \n",
    "    #[0,0,0,0] remaining time=0 for all processes\n",
    "  \n",
    "    #Copy the burst time into rt[] \n",
    "    #n is no of process burst time is at position 1\n",
    "    for i in range(n):  \n",
    "        rt[i] = processes[i][1] \n",
    "   #initialse      \n",
    "    complete = 0\n",
    "    t = 0\n",
    "    minm = 999999999\n",
    "    short = 0\n",
    "    check = False\n",
    "  \n",
    "    # Processing will take place until all process gets completed \n",
    "    while (complete != n): \n",
    "          \n",
    "        #Find process with minimum remaining time among the processes that arrives till the current time\n",
    "        #t=0 initially if arrival time is <=time remaining time<99999 and >0\n",
    "        #minm=the remaining time\n",
    "        for j in range(n): \n",
    "            if ((processes[j][2] <= t) and (rt[j] < minm) and rt[j] > 0): \n",
    "                minm = rt[j] \n",
    "                short = j \n",
    "                check = True\n",
    "        #if there is no process at time t do t=t+1        \n",
    "        if (check == False): \n",
    "            t += 1\n",
    "            continue\n",
    "              \n",
    "        # if process is executed reduce time by 1   \n",
    "        rt[short] -= 1\n",
    "  \n",
    "        # Update minimum  \n",
    "        minm = rt[short]  \n",
    "        if (minm == 0):  \n",
    "            minm = 999999999\n",
    "  \n",
    "        # If a process gets completely executed  \n",
    "        if (rt[short] == 0):  \n",
    "  \n",
    "            # Increment complete  \n",
    "            complete += 1\n",
    "            check = False\n",
    "  \n",
    "            # Find finish time of current process  \n",
    "            fint = t + 1\n",
    "  \n",
    "            # Calculate waiting time  \n",
    "            wt[short] = (fint - proc[short][1] -proc[short][2]) \n",
    "  \n",
    "            if (wt[short] < 0): \n",
    "                wt[short] = 0\n",
    "          \n",
    "        # Increment time  \n",
    "        t += 1\n",
    "#Function to calculate TAT\n",
    "def findTurnAroundTime(processes, n, wt, tat):  \n",
    "      \n",
    "    # Calculating turnaround time  \n",
    "    for i in range(n): \n",
    "        tat[i] = processes[i][1] + wt[i]  \n",
    "#Function to calculate average waiting time and tat\n",
    "def findavgTime(processes, n):  \n",
    "    wt = [0] * n \n",
    "    tat = [0] * n  \n",
    "  \n",
    "    # Function to find waiting time  \n",
    "    # of all processes  \n",
    "    findWaitingTime(processes, n, wt)  \n",
    "  \n",
    "    # Function to find turn around time \n",
    "    # for all processes  \n",
    "    findTurnAroundTime(processes, n, wt, tat)  \n",
    "  \n",
    "    # Display processes along with all details  \n",
    "    print(\"Processes    Burst Time     Waiting\",  \n",
    "                    \"Time     Turn-Around Time\") \n",
    "    total_wt = 0\n",
    "    total_tat = 0\n",
    "    for i in range(n): \n",
    "  \n",
    "        total_wt = total_wt + wt[i]  \n",
    "        total_tat = total_tat + tat[i]  \n",
    "        print(\" \", processes[i][0], \"\\t\\t\",  \n",
    "                   processes[i][1], \"\\t\\t\",  \n",
    "                   wt[i], \"\\t\\t\", tat[i]) \n",
    "  \n",
    "    print(\"\\nAverage waiting time = %.5f \"%(total_wt /n) ) \n",
    "    print(\"Average turn around time = \", total_tat / n)   \n",
    "    \n",
    "if __name__ ==\"__main__\":\n",
    "    proc = [[1, 6, 1], [2, 8, 1], \n",
    "            [3, 7, 2], [4, 3, 3]] \n",
    "    n = 4\n",
    "    findavgTime(proc, n)"
   ]
  },
  {
   "cell_type": "code",
   "execution_count": null,
   "metadata": {},
   "outputs": [],
   "source": []
  }
 ],
 "metadata": {
  "kernelspec": {
   "display_name": "Python 3",
   "language": "python",
   "name": "python3"
  },
  "language_info": {
   "codemirror_mode": {
    "name": "ipython",
    "version": 3
   },
   "file_extension": ".py",
   "mimetype": "text/x-python",
   "name": "python",
   "nbconvert_exporter": "python",
   "pygments_lexer": "ipython3",
   "version": "3.7.6"
  }
 },
 "nbformat": 4,
 "nbformat_minor": 4
}
