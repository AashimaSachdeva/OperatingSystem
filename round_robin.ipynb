{
 "cells": [
  {
   "cell_type": "markdown",
   "metadata": {},
   "source": [
    "# Round Robin "
   ]
  },
  {
   "cell_type": "markdown",
   "metadata": {},
   "source": [
    "1- Create an array rem_bt[] to keep track of remaining burst time of processes. This array is initially a copy of bt[] (burst times array)     \n",
    "2- Create another array wt[] to store waiting times of processes. Initialize this array as 0.    \n",
    "3- Initialize time : t = 0\n",
    "4- Keep traversing the all processes while all processes are not done. Do following for i'th process if it is not done yet.       \n",
    "    a- If rem_bt[i] > quantum    \n",
    "       (i)  t = t + quantum     \n",
    "       (ii) bt_rem[i] -= quantum;     \n",
    "    c- Else // Last cycle for this process     \n",
    "       (i)  t = t + bt_rem[i];     \n",
    "       (ii) wt[i] = t - bt[i]     \n",
    "       (ii) bt_rem[i] = 0; // This process is over    "
   ]
  },
  {
   "cell_type": "code",
   "execution_count": 3,
   "metadata": {},
   "outputs": [],
   "source": [
    "#to keep track of remaining burst time \n",
    "def findWaitingTime(processes, n, bt, wt, quantum):  \n",
    "    rem_bt = [0] * n \n",
    "  \n",
    "    for i in range(n):  \n",
    "        rem_bt[i] = bt[i] \n",
    "    t = 0   \n",
    "#check for each processs \n",
    "    while(1): #while(1) or while(non-zero) is use for infinite loop that is condition is always true so what are present inside loop will execute forever\n",
    "        done = True #to keep track of process\n",
    "        for i in range(n): \n",
    "              \n",
    "            #burst time >0  \n",
    "            if (rem_bt[i] > 0) : \n",
    "                done = False #pending process\n",
    "                  \n",
    "                if (rem_bt[i] > quantum) : \n",
    "                  \n",
    "                    #processed for some time quantum that is t\n",
    "                    t = t+quantum  \n",
    "  \n",
    "                    #Decrease burst time because for 2 quantum is has been executed\n",
    "                    rem_bt[i] =rem_bt[i]- quantum  \n",
    "                \n",
    "                #else condition is forif the process burst time is less than or equal to quantum\n",
    "                else:  \n",
    "                    t = t + rem_bt[i]  \n",
    "                    #waiting time \n",
    "                    wt[i] = t - bt[i]  \n",
    "                    #remaining time=0 as it isfully executed now\n",
    "                    rem_bt[i] = 0\n",
    "                  \n",
    "        #continue till all processes are done  \n",
    "        if (done == True): \n",
    "            break\n",
    "              \n"
   ]
  },
  {
   "cell_type": "code",
   "execution_count": 5,
   "metadata": {},
   "outputs": [],
   "source": [
    "# calculate turn around time  \n",
    "def findTurnAroundTime(processes, n, bt, wt, tat):   \n",
    "    for i in range(n): \n",
    "        tat[i] = bt[i] + wt[i]  "
   ]
  },
  {
   "cell_type": "code",
   "execution_count": 6,
   "metadata": {},
   "outputs": [],
   "source": [
    "# calculate average waiting and turn-around times.  \n",
    "def findavgTime(processes, n, bt, quantum):  \n",
    "    wt = [0] * n \n",
    "    tat = [0] * n  \n",
    "  \n",
    "    # waiting time \n",
    "    findWaitingTime(processes, n, bt, wt, quantum)  \n",
    "  \n",
    "    # turn around time \n",
    "    findTurnAroundTime(processes, n, bt,wt, tat)  \n",
    "  \n",
    "      \n",
    "    print(\"Processes    Burst Time     Waiting\",\"Time    Turn-Around Time\") \n",
    "    total_wt = 0\n",
    "    total_tat = 0\n",
    "    for i in range(n): \n",
    "  \n",
    "        total_wt = total_wt + wt[i]  \n",
    "        total_tat = total_tat + tat[i]  \n",
    "        print(\" \", i + 1, \"\\t\\t\", bt[i],\"\\t\\t\", wt[i], \"\\t\\t\", tat[i]) \n",
    "  \n",
    "    print(\"\\nAverage waiting time = %.5f \"%(total_wt /n) ) \n",
    "    print(\"Average turn around time = %.5f \"% (total_tat / n))  "
   ]
  },
  {
   "cell_type": "code",
   "execution_count": 7,
   "metadata": {},
   "outputs": [
    {
     "name": "stdout",
     "output_type": "stream",
     "text": [
      "Processes    Burst Time     Waiting Time    Turn-Around Time\n",
      "  1 \t\t 5 \t\t 9 \t\t 14\n",
      "  2 \t\t 3 \t\t 9 \t\t 12\n",
      "  3 \t\t 1 \t\t 4 \t\t 5\n",
      "  4 \t\t 2 \t\t 5 \t\t 7\n",
      "  5 \t\t 3 \t\t 10 \t\t 13\n",
      "\n",
      "Average waiting time = 7.40000 \n",
      "Average turn around time = 10.20000 \n"
     ]
    }
   ],
   "source": [
    "proc = [1, 2, 3,4,5] \n",
    "n = 5  \n",
    "burst_time = [5,3,1,2,3 ]  \n",
    "quantum = 2;  \n",
    "findavgTime(proc, n, burst_time, quantum) "
   ]
  },
  {
   "cell_type": "code",
   "execution_count": null,
   "metadata": {},
   "outputs": [],
   "source": []
  },
  {
   "cell_type": "markdown",
   "metadata": {},
   "source": [
    "# Round Robin with arrival time"
   ]
  },
  {
   "cell_type": "code",
   "execution_count": 20,
   "metadata": {},
   "outputs": [
    {
     "name": "stdout",
     "output_type": "stream",
     "text": [
      "Enter Total Process Number: \n",
      "3\n"
     ]
    }
   ],
   "source": [
    "print(\"Enter Total Process Number: \")\n",
    "total_p_no = int(input())\n",
    "total_time = 0 \n",
    "total_time_counted = 0\n",
    "proc = []\n",
    "wait_time = 0\n",
    "turnaround_time = 0"
   ]
  },
  {
   "cell_type": "code",
   "execution_count": 21,
   "metadata": {},
   "outputs": [
    {
     "name": "stdout",
     "output_type": "stream",
     "text": [
      "Enter process arrival time and burst time\n",
      "0 2 5\n",
      "Enter process arrival time and burst time\n",
      "2 5 1\n",
      "Enter process arrival time and burst time\n",
      "3 5 6\n",
      "Enter time quantum\n",
      "2\n"
     ]
    }
   ],
   "source": [
    "for _ in range(total_p_no):\n",
    "        print(\"Enter process arrival time and burst time\") \n",
    "        input_info = list(map(int, input().split(\" \")))\n",
    "        arrival, burst, remaining_time = input_info[0], input_info[1], input_info[1]\n",
    "        proc.append([arrival, burst, remaining_time, 0])\n",
    "        total_time =total_time+ burst\n",
    "print(\"Enter time quantum\")\n",
    "time_quantum = int(input())"
   ]
  },
  {
   "cell_type": "code",
   "execution_count": 22,
   "metadata": {},
   "outputs": [
    {
     "data": {
      "text/plain": [
       "[[0, 2, 2, 0], [2, 5, 5, 0], [3, 5, 5, 0]]"
      ]
     },
     "execution_count": 22,
     "metadata": {},
     "output_type": "execute_result"
    }
   ],
   "source": [
    "proc"
   ]
  },
  {
   "cell_type": "code",
   "execution_count": 23,
   "metadata": {},
   "outputs": [
    {
     "name": "stdout",
     "output_type": "stream",
     "text": [
      "\n",
      "Avg Waiting Time is  2.6666666666666665\n",
      "Avg Turnaround Time is  6.666666666666667\n"
     ]
    }
   ],
   "source": [
    "while total_time != 0:\n",
    "        for i in range(len(proc)):\n",
    "            if proc[i][2] <= time_quantum and proc[i][2] >= 0:\n",
    "                total_time_counted += proc[i][2]\n",
    "                total_time -= proc[i][2]\n",
    "                proc[i][2] = 0 \n",
    "            elif proc[i][2] > 0:\n",
    "                proc[i][2] -= time_quantum\n",
    "                total_time -= time_quantum\n",
    "                total_time_counted += time_quantum\n",
    "            if proc[i][2] == 0 and proc[i][3] != 1:\n",
    "                wait_time += total_time_counted - proc[i][0] - proc[i][1]\n",
    "                turnaround_time += total_time_counted - proc[i][0]\n",
    "                \n",
    "                proc[i][3] = 1 \n",
    "print(\"\\nAvg Waiting Time is \", (wait_time * 1) / total_p_no)\n",
    "print(\"Avg Turnaround Time is \", (turnaround_time * 1) / total_p_no)"
   ]
  },
  {
   "cell_type": "code",
   "execution_count": null,
   "metadata": {},
   "outputs": [],
   "source": []
  }
 ],
 "metadata": {
  "kernelspec": {
   "display_name": "Python 3",
   "language": "python",
   "name": "python3"
  },
  "language_info": {
   "codemirror_mode": {
    "name": "ipython",
    "version": 3
   },
   "file_extension": ".py",
   "mimetype": "text/x-python",
   "name": "python",
   "nbconvert_exporter": "python",
   "pygments_lexer": "ipython3",
   "version": "3.7.6"
  }
 },
 "nbformat": 4,
 "nbformat_minor": 4
}
