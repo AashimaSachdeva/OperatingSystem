{
 "cells": [
  {
   "cell_type": "markdown",
   "metadata": {},
   "source": [
    "# Bankers Algorithm"
   ]
  },
  {
   "cell_type": "markdown",
   "metadata": {},
   "source": [
    "1 Let Work and Finish be vectors of length ‘m’ and ‘n’ respectively.             \n",
    "Initialize: Work= Available             \n",
    "Finish [i]=false; for i=1,2,……,n  \n",
    "\n",
    "2 Find an i such that both           \n",
    "a) Finish [i]=false              \n",
    "b) Need_i<=work               \n",
    "\n",
    "3 if no such i exists goto step (4)       \n",
    "Work=Work + Allocation_i          \n",
    "Finish[i]= true         \n",
    "goto step(2)       \n",
    "\n",
    "4 If Finish[i]=true for all i,then the system is in safe state.             "
   ]
  },
  {
   "cell_type": "code",
   "execution_count": 3,
   "metadata": {},
   "outputs": [],
   "source": [
    "# number of processes  \n",
    "P = 5  \n",
    "# number of resources  \n",
    "R = 3"
   ]
  },
  {
   "cell_type": "code",
   "execution_count": 4,
   "metadata": {},
   "outputs": [],
   "source": [
    "# Function to find the need of each process  \n",
    "def calculateNeed(need, maxm, allot): \n",
    "    for i in range(P): \n",
    "        for j in range(R): \n",
    "            need[i][j] = maxm[i][j] - allot[i][j]  "
   ]
  },
  {
   "cell_type": "code",
   "execution_count": 8,
   "metadata": {},
   "outputs": [],
   "source": [
    "# Function to find the system is in safe state or not \n",
    "def isSafe(processes, avail, maxm, allot): \n",
    "    need = [] \n",
    "    for i in range(P): \n",
    "        l = [] \n",
    "        for j in range(R): \n",
    "            l.append(0) \n",
    "        need.append(l) \n",
    "    calculateNeed(need, maxm, allot)  \n",
    "    finish = [0] * P \n",
    "    safeSeq = [0] * P  \n",
    "    work = [0] * R  \n",
    "    for i in range(R): \n",
    "        #step1 in numerical\n",
    "        work[i] = avail[i]  \n",
    "    count = 0\n",
    "    while (count < P):  \n",
    "        found = False\n",
    "        for p in range(P):  \n",
    "            if (finish[p] == 0):  \n",
    "                for j in range(R):\n",
    "                    if (need[p][j] > work[j]): \n",
    "                        break\n",
    "                      \n",
    "                if (j == R - 1):  \n",
    "                    for k in range(R):\n",
    "                        #need satisfy work=work+allocated\n",
    "                        work[k] += allot[p][k]  \n",
    "                    safeSeq[count] = p \n",
    "                    count += 1 \n",
    "                    finish[p] = 1\n",
    "                    found = True\n",
    "        \n",
    "        #all processes need is not fulfilled so unsafe state\n",
    "        if (found == False): \n",
    "            print(\"System is not in safe state\") \n",
    "            return False\n",
    "    print(\"System is in safe state, \\n Safe sequence is: \", end = \" \") \n",
    "    print(*safeSeq)  \n",
    "    print(\"Need matrix:\",need)\n",
    "  \n",
    "    return True"
   ]
  },
  {
   "cell_type": "code",
   "execution_count": 9,
   "metadata": {},
   "outputs": [
    {
     "name": "stdout",
     "output_type": "stream",
     "text": [
      "System is in safe state, \n",
      " Safe sequence is:  1 3 4 0 2\n",
      "Need matrix: [[7, 4, 3], [1, 2, 2], [6, 0, 0], [0, 1, 1], [4, 3, 1]]\n"
     ]
    },
    {
     "data": {
      "text/plain": [
       "True"
      ]
     },
     "execution_count": 9,
     "metadata": {},
     "output_type": "execute_result"
    }
   ],
   "source": [
    "#is given in question when we solved numerical\n",
    "processes = [0, 1, 2, 3, 4] \n",
    "allot = [[0, 1, 0], [2, 0, 0], [3, 0, 2], [2, 1, 1], [0, 0, 2]]    \n",
    "maxm = [[7, 5, 3], [3, 2, 2], [9, 0, 2], [2, 2, 2], [4, 3, 3]] \n",
    "avail = [3, 3, 2]  \n",
    "isSafe(processes, avail, maxm, allot)"
   ]
  },
  {
   "cell_type": "code",
   "execution_count": null,
   "metadata": {},
   "outputs": [],
   "source": []
  }
 ],
 "metadata": {
  "kernelspec": {
   "display_name": "Python 3",
   "language": "python",
   "name": "python3"
  },
  "language_info": {
   "codemirror_mode": {
    "name": "ipython",
    "version": 3
   },
   "file_extension": ".py",
   "mimetype": "text/x-python",
   "name": "python",
   "nbconvert_exporter": "python",
   "pygments_lexer": "ipython3",
   "version": "3.7.6"
  }
 },
 "nbformat": 4,
 "nbformat_minor": 4
}
